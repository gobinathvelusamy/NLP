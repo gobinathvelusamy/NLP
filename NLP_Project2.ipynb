{
 "cells": [
  {
   "cell_type": "markdown",
   "metadata": {
    "id": "1jPZKd4bBR_E"
   },
   "source": [
    "** PROJECT OBJECTIVE:** Design a python based interactive semi - rule based chatbot which can do the following:"
   ]
  },
  {
   "cell_type": "markdown",
   "metadata": {
    "id": "83oWq9JLBjkF"
   },
   "source": [
    "Import Modules"
   ]
  },
  {
   "cell_type": "code",
   "execution_count": null,
   "metadata": {
    "id": "Kf8-YlQ2BmQU"
   },
   "outputs": [],
   "source": [
    "import nltk\n",
    "from nltk.stem.lancaster import LancasterStemmer\n",
    "import numpy as np\n",
    "import tflearn\n",
    "import tensorflow as tf\n",
    "import json\n",
    "import pickle\n",
    "import random"
   ]
  },
  {
   "cell_type": "markdown",
   "metadata": {
    "id": "QJ0As-Z7BhSv"
   },
   "source": [
    "1. Start chat session with greetings and ask what the user is looking for. "
   ]
  },
  {
   "cell_type": "code",
   "execution_count": null,
   "metadata": {
    "id": "f13E9CA_BP5N"
   },
   "outputs": [],
   "source": [
    "def chat():\n",
    "    print(\"Hi i am Virtual Assitisnt will help you on Great lakes Education \")\n",
    "    print(\"If you want to Quit please endter Quit \")\n",
    "\n",
    "    while True:\n",
    "        inp = input(\"\\n\\nYou: \")\n",
    "        if inp.lower() == 'quit':\n",
    "            break\n",
    "\n",
    "    #Porbability of correct response \n",
    "        results = model.predict([bag_of_words(inp, words)])\n",
    "\n",
    "    # Picking the greatest number from probability\n",
    "        results_index = np.argmax(results)\n",
    "\n",
    "        tag = labels[results_index]\n",
    "\n",
    "        for tg in data['intents']:\n",
    "\n",
    "            if tg['tag'] == tag:\n",
    "                responses = tg['responses']\n",
    "                print(\"Bot:\\t\" + random.choice(responses))"
   ]
  },
  {
   "cell_type": "markdown",
   "metadata": {
    "id": "7zgC_L1sBxBU"
   },
   "source": [
    "2. Accept dynamic text based questions from the user. Reply back with relevant answer from the designed corpus. "
   ]
  },
  {
   "cell_type": "code",
   "execution_count": null,
   "metadata": {
    "id": "607Lxaco-QSe"
   },
   "outputs": [],
   "source": [
    "#Loading intents.json\n",
    "with open('GL Bot.json') as intents:\n",
    "  data = json.load(intents)\n",
    "\n",
    "stemmer = LancasterStemmer()\n",
    "\n",
    "# getting informations from intents.json--\n",
    "words = []\n",
    "labels = []\n",
    "x_docs = []\n",
    "y_docs = []\n",
    "\n",
    "for intent in data['intents']:\n",
    "    for pattern in intent['patterns']:\n",
    "        wrds = nltk.word_tokenize(pattern)\n",
    "        words.extend(wrds)\n",
    "        x_docs.append(wrds)\n",
    "        y_docs.append(intent['tag'])\n",
    "\n",
    "        if intent['tag'] not in labels:\n",
    "            labels.append(intent['tag'])"
   ]
  },
  {
   "cell_type": "code",
   "execution_count": null,
   "metadata": {
    "id": "bZIrbgud-VbD"
   },
   "outputs": [],
   "source": [
    "# Stemming the words and removing duplicate elements.\n",
    "words = [stemmer.stem(w.lower()) for w in words if w not in \"?\"]\n",
    "words = sorted(list(set(words)))\n",
    "labels = sorted(labels)"
   ]
  },
  {
   "cell_type": "code",
   "execution_count": null,
   "metadata": {
    "id": "HTOGC8dC-Y5Q"
   },
   "outputs": [],
   "source": [
    "training = []\n",
    "output = []\n",
    "out_empty = [0 for _ in range(len(labels))]\n",
    "\n",
    "# One hot encoding, Converting the words to numerals\n",
    "for x, doc in enumerate(x_docs):\n",
    "    bag = []\n",
    "    wrds = [stemmer.stem(w) for w in doc]\n",
    "    for w in words:\n",
    "        if w in wrds:\n",
    "            bag.append(1)\n",
    "        else:\n",
    "            bag.append(0)\n",
    "\n",
    "\n",
    "    output_row = out_empty[:]\n",
    "    output_row[labels.index(y_docs[x])] = 1\n",
    "\n",
    "    training.append(bag)\n",
    "    output.append(output_row)\n",
    "\n",
    "\n",
    "training = np.array(training)\n",
    "output = np.array(output)"
   ]
  },
  {
   "cell_type": "code",
   "execution_count": null,
   "metadata": {
    "colab": {
     "base_uri": "https://localhost:8080/"
    },
    "id": "LZn8ksdQ-cFC",
    "outputId": "d7ca01b4-b15c-4b8f-cf7b-38c12b31744a"
   },
   "outputs": [
    {
     "name": "stdout",
     "output_type": "stream",
     "text": [
      "Training Step: 7999  | total loss: \u001b[1m\u001b[32m0.00346\u001b[0m\u001b[0m | time: 0.080s\n",
      "| Adam | epoch: 500 | loss: 0.00346 - acc: 0.9998 -- iter: 120/128\n",
      "Training Step: 8000  | total loss: \u001b[1m\u001b[32m0.00316\u001b[0m\u001b[0m | time: 0.085s\n",
      "| Adam | epoch: 500 | loss: 0.00316 - acc: 0.9998 -- iter: 128/128\n",
      "--\n"
     ]
    }
   ],
   "source": [
    "net = tflearn.input_data(shape=[None, len(training[0])])\n",
    "net = tflearn.fully_connected(net, 10)\n",
    "net = tflearn.fully_connected(net, 10)\n",
    "net = tflearn.fully_connected(net, 10)\n",
    "net = tflearn.fully_connected(net, len(output[0]), activation='softmax')\n",
    "net = tflearn.regression(net)\n",
    "\n",
    "model = tflearn.DNN(net)\n",
    "model.fit(training, output, n_epoch=500, batch_size=8, show_metric=True)\n",
    "model.save('model.tflearn')"
   ]
  },
  {
   "cell_type": "code",
   "execution_count": null,
   "metadata": {
    "id": "hdycT54p-gg6"
   },
   "outputs": [],
   "source": [
    "def bag_of_words(s, words):\n",
    "    bag = [0 for _ in range(len(words))]\n",
    "    s_words = nltk.word_tokenize(s)\n",
    "    s_words = [stemmer.stem(word.lower()) for word in s_words]\n",
    "\n",
    "    for s_word in s_words:\n",
    "        for i, w in enumerate(words):\n",
    "            if w == s_word:\n",
    "                bag[i] = 1\n",
    "\n",
    "    return np.array(bag)"
   ]
  },
  {
   "cell_type": "markdown",
   "metadata": {
    "id": "0iaGIuIoB9z2"
   },
   "source": [
    "3. End the chat session only if the user requests to end else ask what the user is looking for. Loop continues till the user asks to end it."
   ]
  },
  {
   "cell_type": "code",
   "execution_count": null,
   "metadata": {
    "colab": {
     "base_uri": "https://localhost:8080/"
    },
    "id": "aMD7nTvN_zyq",
    "outputId": "43a84246-ad61-4701-da8b-d4f7c6c0ed52"
   },
   "outputs": [
    {
     "name": "stdout",
     "output_type": "stream",
     "text": [
      "Hi i am Virtual Assitisnt will help you on Great lakes Education \n",
      "If you want to Quit please endter Quit \n",
      "\n",
      "\n",
      "You: aiml\n",
      "Bot:\tHello! how can i help you ?\n",
      "\n",
      "\n",
      "You: AIML\n",
      "Bot:\tHello! how can i help you ?\n",
      "\n",
      "\n",
      "You: ML\n",
      "Bot:\tLink: Machine Learning wiki \n",
      "\n",
      "\n",
      "You: name please\n",
      "Bot:\tI am your virtual learning assistant\n",
      "\n",
      "\n",
      "You: quit\n"
     ]
    }
   ],
   "source": [
    "chat()"
   ]
  }
 ],
 "metadata": {
  "colab": {
   "provenance": []
  },
  "kernelspec": {
   "display_name": "Python 3 (ipykernel)",
   "language": "python",
   "name": "python3"
  },
  "language_info": {
   "codemirror_mode": {
    "name": "ipython",
    "version": 3
   },
   "file_extension": ".py",
   "mimetype": "text/x-python",
   "name": "python",
   "nbconvert_exporter": "python",
   "pygments_lexer": "ipython3",
   "version": "3.9.7"
  }
 },
 "nbformat": 4,
 "nbformat_minor": 1
}
