{
 "cells": [
  {
   "cell_type": "code",
   "execution_count": 1,
   "id": "af132acb",
   "metadata": {},
   "outputs": [],
   "source": [
    "import pandas as pd\n",
    "import re\n",
    "from nltk.corpus import stopwords\n",
    "from sklearn.feature_extraction.text import CountVectorizer\n",
    "from sklearn.model_selection import train_test_split\n",
    "import warnings\n",
    "warnings.filterwarnings('ignore')\n",
    "import seaborn as sns\n",
    "import matplotlib as plt\n",
    "%matplotlib inline"
   ]
  },
  {
   "cell_type": "code",
   "execution_count": 2,
   "id": "fe3f5219",
   "metadata": {},
   "outputs": [
    {
     "name": "stderr",
     "output_type": "stream",
     "text": [
      "[nltk_data] Downloading package stopwords to\n",
      "[nltk_data]     /Users/gobinathvelusamy/nltk_data...\n",
      "[nltk_data]   Package stopwords is already up-to-date!\n"
     ]
    },
    {
     "data": {
      "text/plain": [
       "True"
      ]
     },
     "execution_count": 2,
     "metadata": {},
     "output_type": "execute_result"
    }
   ],
   "source": [
    "import nltk\n",
    "nltk.download('stopwords')\n"
   ]
  },
  {
   "cell_type": "markdown",
   "id": "cb0df886",
   "metadata": {},
   "source": [
    " 1. Read and Analyse Dataset. "
   ]
  },
  {
   "cell_type": "markdown",
   "id": "e2ceaa29",
   "metadata": {},
   "source": [
    "A. Clearly write outcome of data analysis"
   ]
  },
  {
   "cell_type": "code",
   "execution_count": 3,
   "id": "476b2641",
   "metadata": {},
   "outputs": [],
   "source": [
    "df = pd.read_csv('blogtext.csv')"
   ]
  },
  {
   "cell_type": "code",
   "execution_count": 4,
   "id": "daf8a8eb",
   "metadata": {},
   "outputs": [
    {
     "data": {
      "text/plain": [
       "(681284, 7)"
      ]
     },
     "execution_count": 4,
     "metadata": {},
     "output_type": "execute_result"
    }
   ],
   "source": [
    "df.shape"
   ]
  },
  {
   "cell_type": "code",
   "execution_count": 5,
   "id": "7a25a5b8",
   "metadata": {},
   "outputs": [
    {
     "data": {
      "text/html": [
       "<div>\n",
       "<style scoped>\n",
       "    .dataframe tbody tr th:only-of-type {\n",
       "        vertical-align: middle;\n",
       "    }\n",
       "\n",
       "    .dataframe tbody tr th {\n",
       "        vertical-align: top;\n",
       "    }\n",
       "\n",
       "    .dataframe thead th {\n",
       "        text-align: right;\n",
       "    }\n",
       "</style>\n",
       "<table border=\"1\" class=\"dataframe\">\n",
       "  <thead>\n",
       "    <tr style=\"text-align: right;\">\n",
       "      <th></th>\n",
       "      <th>id</th>\n",
       "      <th>gender</th>\n",
       "      <th>age</th>\n",
       "      <th>topic</th>\n",
       "      <th>sign</th>\n",
       "      <th>date</th>\n",
       "      <th>text</th>\n",
       "    </tr>\n",
       "  </thead>\n",
       "  <tbody>\n",
       "    <tr>\n",
       "      <th>0</th>\n",
       "      <td>2059027</td>\n",
       "      <td>male</td>\n",
       "      <td>15</td>\n",
       "      <td>Student</td>\n",
       "      <td>Leo</td>\n",
       "      <td>14,May,2004</td>\n",
       "      <td>Info has been found (+/- 100 pages,...</td>\n",
       "    </tr>\n",
       "    <tr>\n",
       "      <th>1</th>\n",
       "      <td>2059027</td>\n",
       "      <td>male</td>\n",
       "      <td>15</td>\n",
       "      <td>Student</td>\n",
       "      <td>Leo</td>\n",
       "      <td>13,May,2004</td>\n",
       "      <td>These are the team members:   Drewe...</td>\n",
       "    </tr>\n",
       "    <tr>\n",
       "      <th>2</th>\n",
       "      <td>2059027</td>\n",
       "      <td>male</td>\n",
       "      <td>15</td>\n",
       "      <td>Student</td>\n",
       "      <td>Leo</td>\n",
       "      <td>12,May,2004</td>\n",
       "      <td>In het kader van kernfusie op aarde...</td>\n",
       "    </tr>\n",
       "    <tr>\n",
       "      <th>3</th>\n",
       "      <td>2059027</td>\n",
       "      <td>male</td>\n",
       "      <td>15</td>\n",
       "      <td>Student</td>\n",
       "      <td>Leo</td>\n",
       "      <td>12,May,2004</td>\n",
       "      <td>testing!!!  testing!!!</td>\n",
       "    </tr>\n",
       "    <tr>\n",
       "      <th>4</th>\n",
       "      <td>3581210</td>\n",
       "      <td>male</td>\n",
       "      <td>33</td>\n",
       "      <td>InvestmentBanking</td>\n",
       "      <td>Aquarius</td>\n",
       "      <td>11,June,2004</td>\n",
       "      <td>Thanks to Yahoo!'s Toolbar I can ...</td>\n",
       "    </tr>\n",
       "  </tbody>\n",
       "</table>\n",
       "</div>"
      ],
      "text/plain": [
       "        id gender  age              topic      sign          date  \\\n",
       "0  2059027   male   15            Student       Leo   14,May,2004   \n",
       "1  2059027   male   15            Student       Leo   13,May,2004   \n",
       "2  2059027   male   15            Student       Leo   12,May,2004   \n",
       "3  2059027   male   15            Student       Leo   12,May,2004   \n",
       "4  3581210   male   33  InvestmentBanking  Aquarius  11,June,2004   \n",
       "\n",
       "                                                text  \n",
       "0             Info has been found (+/- 100 pages,...  \n",
       "1             These are the team members:   Drewe...  \n",
       "2             In het kader van kernfusie op aarde...  \n",
       "3                   testing!!!  testing!!!            \n",
       "4               Thanks to Yahoo!'s Toolbar I can ...  "
      ]
     },
     "execution_count": 5,
     "metadata": {},
     "output_type": "execute_result"
    }
   ],
   "source": [
    "df.head()"
   ]
  },
  {
   "cell_type": "code",
   "execution_count": 6,
   "id": "d46a308d",
   "metadata": {},
   "outputs": [],
   "source": [
    "df.drop(['id','date'], axis=1, inplace=True)"
   ]
  },
  {
   "cell_type": "code",
   "execution_count": 7,
   "id": "08d15575",
   "metadata": {},
   "outputs": [
    {
     "data": {
      "text/html": [
       "<div>\n",
       "<style scoped>\n",
       "    .dataframe tbody tr th:only-of-type {\n",
       "        vertical-align: middle;\n",
       "    }\n",
       "\n",
       "    .dataframe tbody tr th {\n",
       "        vertical-align: top;\n",
       "    }\n",
       "\n",
       "    .dataframe thead th {\n",
       "        text-align: right;\n",
       "    }\n",
       "</style>\n",
       "<table border=\"1\" class=\"dataframe\">\n",
       "  <thead>\n",
       "    <tr style=\"text-align: right;\">\n",
       "      <th></th>\n",
       "      <th>gender</th>\n",
       "      <th>age</th>\n",
       "      <th>topic</th>\n",
       "      <th>sign</th>\n",
       "      <th>text</th>\n",
       "    </tr>\n",
       "  </thead>\n",
       "  <tbody>\n",
       "    <tr>\n",
       "      <th>count</th>\n",
       "      <td>681284</td>\n",
       "      <td>681284.000000</td>\n",
       "      <td>681284</td>\n",
       "      <td>681284</td>\n",
       "      <td>681284</td>\n",
       "    </tr>\n",
       "    <tr>\n",
       "      <th>unique</th>\n",
       "      <td>2</td>\n",
       "      <td>NaN</td>\n",
       "      <td>40</td>\n",
       "      <td>12</td>\n",
       "      <td>611652</td>\n",
       "    </tr>\n",
       "    <tr>\n",
       "      <th>top</th>\n",
       "      <td>male</td>\n",
       "      <td>NaN</td>\n",
       "      <td>indUnk</td>\n",
       "      <td>Cancer</td>\n",
       "      <td>urlLink</td>\n",
       "    </tr>\n",
       "    <tr>\n",
       "      <th>freq</th>\n",
       "      <td>345193</td>\n",
       "      <td>NaN</td>\n",
       "      <td>251015</td>\n",
       "      <td>65048</td>\n",
       "      <td>445</td>\n",
       "    </tr>\n",
       "    <tr>\n",
       "      <th>mean</th>\n",
       "      <td>NaN</td>\n",
       "      <td>23.932326</td>\n",
       "      <td>NaN</td>\n",
       "      <td>NaN</td>\n",
       "      <td>NaN</td>\n",
       "    </tr>\n",
       "    <tr>\n",
       "      <th>std</th>\n",
       "      <td>NaN</td>\n",
       "      <td>7.786009</td>\n",
       "      <td>NaN</td>\n",
       "      <td>NaN</td>\n",
       "      <td>NaN</td>\n",
       "    </tr>\n",
       "    <tr>\n",
       "      <th>min</th>\n",
       "      <td>NaN</td>\n",
       "      <td>13.000000</td>\n",
       "      <td>NaN</td>\n",
       "      <td>NaN</td>\n",
       "      <td>NaN</td>\n",
       "    </tr>\n",
       "    <tr>\n",
       "      <th>25%</th>\n",
       "      <td>NaN</td>\n",
       "      <td>17.000000</td>\n",
       "      <td>NaN</td>\n",
       "      <td>NaN</td>\n",
       "      <td>NaN</td>\n",
       "    </tr>\n",
       "    <tr>\n",
       "      <th>50%</th>\n",
       "      <td>NaN</td>\n",
       "      <td>24.000000</td>\n",
       "      <td>NaN</td>\n",
       "      <td>NaN</td>\n",
       "      <td>NaN</td>\n",
       "    </tr>\n",
       "    <tr>\n",
       "      <th>75%</th>\n",
       "      <td>NaN</td>\n",
       "      <td>26.000000</td>\n",
       "      <td>NaN</td>\n",
       "      <td>NaN</td>\n",
       "      <td>NaN</td>\n",
       "    </tr>\n",
       "    <tr>\n",
       "      <th>max</th>\n",
       "      <td>NaN</td>\n",
       "      <td>48.000000</td>\n",
       "      <td>NaN</td>\n",
       "      <td>NaN</td>\n",
       "      <td>NaN</td>\n",
       "    </tr>\n",
       "  </tbody>\n",
       "</table>\n",
       "</div>"
      ],
      "text/plain": [
       "        gender            age   topic    sign                 text\n",
       "count   681284  681284.000000  681284  681284               681284\n",
       "unique       2            NaN      40      12               611652\n",
       "top       male            NaN  indUnk  Cancer           urlLink   \n",
       "freq    345193            NaN  251015   65048                  445\n",
       "mean       NaN      23.932326     NaN     NaN                  NaN\n",
       "std        NaN       7.786009     NaN     NaN                  NaN\n",
       "min        NaN      13.000000     NaN     NaN                  NaN\n",
       "25%        NaN      17.000000     NaN     NaN                  NaN\n",
       "50%        NaN      24.000000     NaN     NaN                  NaN\n",
       "75%        NaN      26.000000     NaN     NaN                  NaN\n",
       "max        NaN      48.000000     NaN     NaN                  NaN"
      ]
     },
     "execution_count": 7,
     "metadata": {},
     "output_type": "execute_result"
    }
   ],
   "source": [
    "df.describe(include='all')"
   ]
  },
  {
   "cell_type": "code",
   "execution_count": 8,
   "id": "e8150127",
   "metadata": {},
   "outputs": [
    {
     "name": "stdout",
     "output_type": "stream",
     "text": [
      "Unique values in the column gender are 2 \n",
      "\n",
      "Unique values in the column age are 26 \n",
      "\n",
      "Unique values in the column topic are 40 \n",
      "\n",
      "Unique values in the column sign are 12\n"
     ]
    }
   ],
   "source": [
    "print('Unique values in the column gender are',df['gender'].nunique(),'\\n')\n",
    "print('Unique values in the column age are',df['age'].nunique(),'\\n')\n",
    "print('Unique values in the column topic are',df['topic'].nunique(),'\\n')\n",
    "print('Unique values in the column sign are',df['sign'].nunique())"
   ]
  },
  {
   "cell_type": "markdown",
   "id": "acb7c34c",
   "metadata": {},
   "source": [
    "1.Dataset has 7 Columns.Here 2 Columns id ,date is not required for further processing,sw we are dropping\n",
    "2.Text column will be X for our analysis\n",
    "3.Remaining columns gender,age,topic,sign will be labelled and used as Y \n",
    "4.Labelled records unique records mentined above"
   ]
  },
  {
   "cell_type": "code",
   "execution_count": 9,
   "id": "9a9dad2d",
   "metadata": {},
   "outputs": [],
   "source": [
    "#Restrict data for running \n",
    "df=df.sample(10000)"
   ]
  },
  {
   "cell_type": "code",
   "execution_count": 10,
   "id": "c3322e03",
   "metadata": {},
   "outputs": [
    {
     "data": {
      "text/plain": [
       "(10000, 5)"
      ]
     },
     "execution_count": 10,
     "metadata": {},
     "output_type": "execute_result"
    }
   ],
   "source": [
    "df.shape"
   ]
  },
  {
   "cell_type": "markdown",
   "id": "2f998fc3",
   "metadata": {},
   "source": [
    "B. Clean the Structured "
   ]
  },
  {
   "cell_type": "markdown",
   "id": "f759ea63",
   "metadata": {},
   "source": [
    "i. Missing value analysis and imputation."
   ]
  },
  {
   "cell_type": "code",
   "execution_count": 11,
   "id": "f2f7f921",
   "metadata": {},
   "outputs": [
    {
     "data": {
      "text/plain": [
       "gender    False\n",
       "age       False\n",
       "topic     False\n",
       "sign      False\n",
       "text      False\n",
       "dtype: bool"
      ]
     },
     "execution_count": 11,
     "metadata": {},
     "output_type": "execute_result"
    }
   ],
   "source": [
    "df.isna().any()\n"
   ]
  },
  {
   "cell_type": "markdown",
   "id": "9d58b6c1",
   "metadata": {},
   "source": [
    "There is no Missing values in data "
   ]
  },
  {
   "cell_type": "markdown",
   "id": "b37d9727",
   "metadata": {},
   "source": [
    "ii. Eliminate Non-English textual data. "
   ]
  },
  {
   "cell_type": "code",
   "execution_count": 13,
   "id": "cda98277",
   "metadata": {},
   "outputs": [
    {
     "name": "stdout",
     "output_type": "stream",
     "text": [
      "Requirement already satisfied: langdetect in /opt/anaconda3/lib/python3.9/site-packages (1.0.9)\n",
      "Requirement already satisfied: six in /opt/anaconda3/lib/python3.9/site-packages (from langdetect) (1.16.0)\n",
      "Note: you may need to restart the kernel to use updated packages.\n"
     ]
    }
   ],
   "source": [
    "pip install langdetect"
   ]
  },
  {
   "cell_type": "code",
   "execution_count": 12,
   "id": "cff30391",
   "metadata": {},
   "outputs": [],
   "source": [
    "from langdetect import detect\n",
    "\n",
    "def detect_english(text):\n",
    "    try:\n",
    "        return detect(text) == 'en'\n",
    "    except:\n",
    "        return False"
   ]
  },
  {
   "cell_type": "code",
   "execution_count": 14,
   "id": "b1ab5412",
   "metadata": {},
   "outputs": [],
   "source": [
    "df = df[df['text'].apply(detect_english)]\n"
   ]
  },
  {
   "cell_type": "code",
   "execution_count": 15,
   "id": "a5f662b7",
   "metadata": {},
   "outputs": [
    {
     "data": {
      "text/plain": [
       "(9565, 5)"
      ]
     },
     "execution_count": 15,
     "metadata": {},
     "output_type": "execute_result"
    }
   ],
   "source": [
    "df.shape"
   ]
  },
  {
   "cell_type": "code",
   "execution_count": null,
   "id": "3146d480",
   "metadata": {},
   "outputs": [],
   "source": [
    "#35 non English records dropped"
   ]
  },
  {
   "cell_type": "markdown",
   "id": "09970c0b",
   "metadata": {},
   "source": [
    "2. Preprocess unstructured data to make it consumable for model training. "
   ]
  },
  {
   "cell_type": "markdown",
   "id": "bc418394",
   "metadata": {},
   "source": [
    "A. Eliminate All special Characters and Numbers"
   ]
  },
  {
   "cell_type": "code",
   "execution_count": 16,
   "id": "963e9fe0",
   "metadata": {},
   "outputs": [],
   "source": [
    "pattern = \"[^\\w ]\"\n",
    "df.text = df.text.apply(lambda s : re.sub(pattern,\"\",s))"
   ]
  },
  {
   "cell_type": "markdown",
   "id": "92d6a9fd",
   "metadata": {},
   "source": [
    "B. Lowercase all textual data "
   ]
  },
  {
   "cell_type": "code",
   "execution_count": 17,
   "id": "f4fe3ba4",
   "metadata": {},
   "outputs": [],
   "source": [
    "df.text = df.text.apply(lambda s: s.lower())\n"
   ]
  },
  {
   "cell_type": "markdown",
   "id": "23346b54",
   "metadata": {},
   "source": [
    "C. Remove all Stopwords "
   ]
  },
  {
   "cell_type": "code",
   "execution_count": 18,
   "id": "00fc14a5",
   "metadata": {},
   "outputs": [],
   "source": [
    "#remove stopwords\n",
    "stopwords=set(stopwords.words('english'))\n",
    "df.text = df.text.apply(lambda t: ' '.join([words for words in t.split() if words not in stopwords]) )"
   ]
  },
  {
   "cell_type": "markdown",
   "id": "97eb832b",
   "metadata": {},
   "source": [
    "D. Remove all extra white spaces "
   ]
  },
  {
   "cell_type": "code",
   "execution_count": 19,
   "id": "cfdacd4e",
   "metadata": {},
   "outputs": [],
   "source": [
    "df.text = df.text.apply(lambda s: s.strip())\n"
   ]
  },
  {
   "cell_type": "markdown",
   "id": "ce015f51",
   "metadata": {},
   "source": [
    " 3. Build a base Classification model "
   ]
  },
  {
   "cell_type": "markdown",
   "id": "e1594e47",
   "metadata": {},
   "source": [
    "A. Create dependent and independent variables "
   ]
  },
  {
   "cell_type": "code",
   "execution_count": 20,
   "id": "65c7e8de",
   "metadata": {},
   "outputs": [],
   "source": [
    "df['labels']=df.apply(lambda col: [col['gender'],str(col['age']),col['topic'],col['sign']], axis=1)"
   ]
  },
  {
   "cell_type": "code",
   "execution_count": 21,
   "id": "3f518932",
   "metadata": {},
   "outputs": [],
   "source": [
    "df=df[['text','labels']]"
   ]
  },
  {
   "cell_type": "code",
   "execution_count": 22,
   "id": "835825b0",
   "metadata": {},
   "outputs": [],
   "source": [
    "X=df['text']\n",
    "Y=df['labels']\n"
   ]
  },
  {
   "cell_type": "code",
   "execution_count": 23,
   "id": "48c1de5d",
   "metadata": {},
   "outputs": [
    {
     "data": {
      "text/html": [
       "<div>\n",
       "<style scoped>\n",
       "    .dataframe tbody tr th:only-of-type {\n",
       "        vertical-align: middle;\n",
       "    }\n",
       "\n",
       "    .dataframe tbody tr th {\n",
       "        vertical-align: top;\n",
       "    }\n",
       "\n",
       "    .dataframe thead th {\n",
       "        text-align: right;\n",
       "    }\n",
       "</style>\n",
       "<table border=\"1\" class=\"dataframe\">\n",
       "  <thead>\n",
       "    <tr style=\"text-align: right;\">\n",
       "      <th></th>\n",
       "      <th>text</th>\n",
       "      <th>labels</th>\n",
       "    </tr>\n",
       "  </thead>\n",
       "  <tbody>\n",
       "    <tr>\n",
       "      <th>172659</th>\n",
       "      <td>lookie created blogi actually get offline onee...</td>\n",
       "      <td>[female, 16, Sports-Recreation, Pisces]</td>\n",
       "    </tr>\n",
       "    <tr>\n",
       "      <th>166446</th>\n",
       "      <td>bill clinton toronto yesterday signing copies ...</td>\n",
       "      <td>[male, 37, Marketing, Gemini]</td>\n",
       "    </tr>\n",
       "    <tr>\n",
       "      <th>546322</th>\n",
       "      <td>new incoming supply currency ive bit gaming bi...</td>\n",
       "      <td>[male, 16, indUnk, Libra]</td>\n",
       "    </tr>\n",
       "    <tr>\n",
       "      <th>219708</th>\n",
       "      <td>interesting hit morning search knitting seroto...</td>\n",
       "      <td>[female, 38, indUnk, Virgo]</td>\n",
       "    </tr>\n",
       "    <tr>\n",
       "      <th>235193</th>\n",
       "      <td>standard email mum england reads like took awa...</td>\n",
       "      <td>[female, 25, Engineering, Scorpio]</td>\n",
       "    </tr>\n",
       "  </tbody>\n",
       "</table>\n",
       "</div>"
      ],
      "text/plain": [
       "                                                     text  \\\n",
       "172659  lookie created blogi actually get offline onee...   \n",
       "166446  bill clinton toronto yesterday signing copies ...   \n",
       "546322  new incoming supply currency ive bit gaming bi...   \n",
       "219708  interesting hit morning search knitting seroto...   \n",
       "235193  standard email mum england reads like took awa...   \n",
       "\n",
       "                                         labels  \n",
       "172659  [female, 16, Sports-Recreation, Pisces]  \n",
       "166446            [male, 37, Marketing, Gemini]  \n",
       "546322                [male, 16, indUnk, Libra]  \n",
       "219708              [female, 38, indUnk, Virgo]  \n",
       "235193       [female, 25, Engineering, Scorpio]  "
      ]
     },
     "execution_count": 23,
     "metadata": {},
     "output_type": "execute_result"
    }
   ],
   "source": [
    "df.head()"
   ]
  },
  {
   "cell_type": "markdown",
   "id": "ca9e1443",
   "metadata": {},
   "source": [
    "B. Split data into train and test."
   ]
  },
  {
   "cell_type": "markdown",
   "id": "8a68e4e6",
   "metadata": {},
   "source": [
    "C. Vectorize data using any one vectorizer."
   ]
  },
  {
   "cell_type": "markdown",
   "id": "46e74d00",
   "metadata": {},
   "source": [
    "Lets perform count vectorizer with bi-grams and tri-grams to get the count vectors of the X data¶\n"
   ]
  },
  {
   "cell_type": "code",
   "execution_count": 24,
   "id": "1305876b",
   "metadata": {},
   "outputs": [],
   "source": [
    "from sklearn.feature_extraction.text import CountVectorizer\n",
    "vectorizer=CountVectorizer(binary=True, ngram_range=(1,2))\n",
    "X=vectorizer.fit_transform(X)"
   ]
  },
  {
   "cell_type": "code",
   "execution_count": 25,
   "id": "3f74f5e2",
   "metadata": {},
   "outputs": [
    {
     "data": {
      "text/plain": [
       "<1x814319 sparse matrix of type '<class 'numpy.int64'>'\n",
       "\twith 276 stored elements in Compressed Sparse Row format>"
      ]
     },
     "execution_count": 25,
     "metadata": {},
     "output_type": "execute_result"
    }
   ],
   "source": [
    "X[1]"
   ]
  },
  {
   "cell_type": "code",
   "execution_count": 27,
   "id": "0be0ca0e",
   "metadata": {},
   "outputs": [],
   "source": [
    "label_counts=dict()\n",
    "\n",
    "for labels in df.labels.values:\n",
    "    for label in labels:\n",
    "        if label in label_counts:\n",
    "            label_counts[label]+=1\n",
    "    else:\n",
    "        label_counts[label]=1"
   ]
  },
  {
   "cell_type": "code",
   "execution_count": 28,
   "id": "e1aefb32",
   "metadata": {},
   "outputs": [
    {
     "data": {
      "text/plain": [
       "{'Pisces': 1,\n",
       " 'Gemini': 1,\n",
       " 'Libra': 1,\n",
       " 'Virgo': 1,\n",
       " 'Scorpio': 1,\n",
       " 'Aries': 1,\n",
       " 'Capricorn': 1,\n",
       " 'Cancer': 1,\n",
       " 'Aquarius': 1,\n",
       " 'Sagittarius': 1,\n",
       " 'Taurus': 1,\n",
       " 'Leo': 1}"
      ]
     },
     "execution_count": 28,
     "metadata": {},
     "output_type": "execute_result"
    }
   ],
   "source": [
    "label_counts"
   ]
  },
  {
   "cell_type": "code",
   "execution_count": 29,
   "id": "f5c7a953",
   "metadata": {},
   "outputs": [],
   "source": [
    "#Preprocssing\n",
    "from sklearn.preprocessing import MultiLabelBinarizer\n",
    "binarizer=MultiLabelBinarizer(classes=sorted(label_counts.keys()))"
   ]
  },
  {
   "cell_type": "code",
   "execution_count": 30,
   "id": "b16adc7c",
   "metadata": {},
   "outputs": [],
   "source": [
    "Y=binarizer.fit_transform(df.labels)"
   ]
  },
  {
   "cell_type": "code",
   "execution_count": 31,
   "id": "403b67e4",
   "metadata": {},
   "outputs": [
    {
     "data": {
      "text/plain": [
       "array([[0, 0, 0, ..., 0, 0, 0],\n",
       "       [0, 0, 0, ..., 0, 0, 0],\n",
       "       [0, 0, 0, ..., 0, 0, 0],\n",
       "       ...,\n",
       "       [0, 0, 0, ..., 0, 0, 1],\n",
       "       [0, 0, 0, ..., 1, 0, 0],\n",
       "       [0, 0, 0, ..., 0, 0, 0]])"
      ]
     },
     "execution_count": 31,
     "metadata": {},
     "output_type": "execute_result"
    }
   ],
   "source": [
    "Y"
   ]
  },
  {
   "cell_type": "markdown",
   "id": "65336f2b",
   "metadata": {},
   "source": [
    "B. Split data into train and test. "
   ]
  },
  {
   "cell_type": "code",
   "execution_count": 32,
   "id": "0713834a",
   "metadata": {},
   "outputs": [],
   "source": [
    "Xtrain,Xtest,Ytrain,Ytest=train_test_split(X,Y,test_size=0.2)"
   ]
  },
  {
   "cell_type": "code",
   "execution_count": 33,
   "id": "75c1f3a9",
   "metadata": {},
   "outputs": [
    {
     "name": "stdout",
     "output_type": "stream",
     "text": [
      "Shape of X_train (7652, 814319)\n",
      "Shape of X_test (1913, 814319)\n",
      "Shape of y_train (7652, 12)\n",
      "Shape of y_test (1913, 12)\n"
     ]
    }
   ],
   "source": [
    "print(\"Shape of X_train\",Xtrain.shape)\n",
    "print(\"Shape of X_test\",Xtest.shape)\n",
    "print(\"Shape of y_train\",Ytrain.shape)\n",
    "print(\"Shape of y_test\",Ytest.shape)"
   ]
  },
  {
   "cell_type": "markdown",
   "id": "acdc3af4",
   "metadata": {},
   "source": [
    "D. Build a base model for Supervised Learning - Classification."
   ]
  },
  {
   "cell_type": "code",
   "execution_count": 34,
   "id": "96df0b81",
   "metadata": {},
   "outputs": [],
   "source": [
    "from sklearn.multiclass import OneVsRestClassifier\n",
    "from sklearn.linear_model import LogisticRegression"
   ]
  },
  {
   "cell_type": "code",
   "execution_count": 35,
   "id": "a211531c",
   "metadata": {},
   "outputs": [],
   "source": [
    "model=LogisticRegression(solver='lbfgs')\n",
    "model=OneVsRestClassifier(model)\n"
   ]
  },
  {
   "cell_type": "code",
   "execution_count": 36,
   "id": "e2522bd0",
   "metadata": {},
   "outputs": [
    {
     "data": {
      "text/html": [
       "<style>#sk-container-id-1 {color: black;background-color: white;}#sk-container-id-1 pre{padding: 0;}#sk-container-id-1 div.sk-toggleable {background-color: white;}#sk-container-id-1 label.sk-toggleable__label {cursor: pointer;display: block;width: 100%;margin-bottom: 0;padding: 0.3em;box-sizing: border-box;text-align: center;}#sk-container-id-1 label.sk-toggleable__label-arrow:before {content: \"▸\";float: left;margin-right: 0.25em;color: #696969;}#sk-container-id-1 label.sk-toggleable__label-arrow:hover:before {color: black;}#sk-container-id-1 div.sk-estimator:hover label.sk-toggleable__label-arrow:before {color: black;}#sk-container-id-1 div.sk-toggleable__content {max-height: 0;max-width: 0;overflow: hidden;text-align: left;background-color: #f0f8ff;}#sk-container-id-1 div.sk-toggleable__content pre {margin: 0.2em;color: black;border-radius: 0.25em;background-color: #f0f8ff;}#sk-container-id-1 input.sk-toggleable__control:checked~div.sk-toggleable__content {max-height: 200px;max-width: 100%;overflow: auto;}#sk-container-id-1 input.sk-toggleable__control:checked~label.sk-toggleable__label-arrow:before {content: \"▾\";}#sk-container-id-1 div.sk-estimator input.sk-toggleable__control:checked~label.sk-toggleable__label {background-color: #d4ebff;}#sk-container-id-1 div.sk-label input.sk-toggleable__control:checked~label.sk-toggleable__label {background-color: #d4ebff;}#sk-container-id-1 input.sk-hidden--visually {border: 0;clip: rect(1px 1px 1px 1px);clip: rect(1px, 1px, 1px, 1px);height: 1px;margin: -1px;overflow: hidden;padding: 0;position: absolute;width: 1px;}#sk-container-id-1 div.sk-estimator {font-family: monospace;background-color: #f0f8ff;border: 1px dotted black;border-radius: 0.25em;box-sizing: border-box;margin-bottom: 0.5em;}#sk-container-id-1 div.sk-estimator:hover {background-color: #d4ebff;}#sk-container-id-1 div.sk-parallel-item::after {content: \"\";width: 100%;border-bottom: 1px solid gray;flex-grow: 1;}#sk-container-id-1 div.sk-label:hover label.sk-toggleable__label {background-color: #d4ebff;}#sk-container-id-1 div.sk-serial::before {content: \"\";position: absolute;border-left: 1px solid gray;box-sizing: border-box;top: 0;bottom: 0;left: 50%;z-index: 0;}#sk-container-id-1 div.sk-serial {display: flex;flex-direction: column;align-items: center;background-color: white;padding-right: 0.2em;padding-left: 0.2em;position: relative;}#sk-container-id-1 div.sk-item {position: relative;z-index: 1;}#sk-container-id-1 div.sk-parallel {display: flex;align-items: stretch;justify-content: center;background-color: white;position: relative;}#sk-container-id-1 div.sk-item::before, #sk-container-id-1 div.sk-parallel-item::before {content: \"\";position: absolute;border-left: 1px solid gray;box-sizing: border-box;top: 0;bottom: 0;left: 50%;z-index: -1;}#sk-container-id-1 div.sk-parallel-item {display: flex;flex-direction: column;z-index: 1;position: relative;background-color: white;}#sk-container-id-1 div.sk-parallel-item:first-child::after {align-self: flex-end;width: 50%;}#sk-container-id-1 div.sk-parallel-item:last-child::after {align-self: flex-start;width: 50%;}#sk-container-id-1 div.sk-parallel-item:only-child::after {width: 0;}#sk-container-id-1 div.sk-dashed-wrapped {border: 1px dashed gray;margin: 0 0.4em 0.5em 0.4em;box-sizing: border-box;padding-bottom: 0.4em;background-color: white;}#sk-container-id-1 div.sk-label label {font-family: monospace;font-weight: bold;display: inline-block;line-height: 1.2em;}#sk-container-id-1 div.sk-label-container {text-align: center;}#sk-container-id-1 div.sk-container {/* jupyter's `normalize.less` sets `[hidden] { display: none; }` but bootstrap.min.css set `[hidden] { display: none !important; }` so we also need the `!important` here to be able to override the default hidden behavior on the sphinx rendered scikit-learn.org. See: https://github.com/scikit-learn/scikit-learn/issues/21755 */display: inline-block !important;position: relative;}#sk-container-id-1 div.sk-text-repr-fallback {display: none;}</style><div id=\"sk-container-id-1\" class=\"sk-top-container\"><div class=\"sk-text-repr-fallback\"><pre>OneVsRestClassifier(estimator=LogisticRegression())</pre><b>In a Jupyter environment, please rerun this cell to show the HTML representation or trust the notebook. <br />On GitHub, the HTML representation is unable to render, please try loading this page with nbviewer.org.</b></div><div class=\"sk-container\" hidden><div class=\"sk-item sk-dashed-wrapped\"><div class=\"sk-label-container\"><div class=\"sk-label sk-toggleable\"><input class=\"sk-toggleable__control sk-hidden--visually\" id=\"sk-estimator-id-1\" type=\"checkbox\" ><label for=\"sk-estimator-id-1\" class=\"sk-toggleable__label sk-toggleable__label-arrow\">OneVsRestClassifier</label><div class=\"sk-toggleable__content\"><pre>OneVsRestClassifier(estimator=LogisticRegression())</pre></div></div></div><div class=\"sk-parallel\"><div class=\"sk-parallel-item\"><div class=\"sk-item\"><div class=\"sk-label-container\"><div class=\"sk-label sk-toggleable\"><input class=\"sk-toggleable__control sk-hidden--visually\" id=\"sk-estimator-id-2\" type=\"checkbox\" ><label for=\"sk-estimator-id-2\" class=\"sk-toggleable__label sk-toggleable__label-arrow\">estimator: LogisticRegression</label><div class=\"sk-toggleable__content\"><pre>LogisticRegression()</pre></div></div></div><div class=\"sk-serial\"><div class=\"sk-item\"><div class=\"sk-estimator sk-toggleable\"><input class=\"sk-toggleable__control sk-hidden--visually\" id=\"sk-estimator-id-3\" type=\"checkbox\" ><label for=\"sk-estimator-id-3\" class=\"sk-toggleable__label sk-toggleable__label-arrow\">LogisticRegression</label><div class=\"sk-toggleable__content\"><pre>LogisticRegression()</pre></div></div></div></div></div></div></div></div></div></div>"
      ],
      "text/plain": [
       "OneVsRestClassifier(estimator=LogisticRegression())"
      ]
     },
     "execution_count": 36,
     "metadata": {},
     "output_type": "execute_result"
    }
   ],
   "source": [
    "model.fit(Xtrain,Ytrain)"
   ]
  },
  {
   "cell_type": "code",
   "execution_count": 37,
   "id": "75a99e0c",
   "metadata": {},
   "outputs": [],
   "source": [
    "Ypred=model.predict(Xtest)"
   ]
  },
  {
   "cell_type": "code",
   "execution_count": 38,
   "id": "dfba5d67",
   "metadata": {},
   "outputs": [],
   "source": [
    "Ypred_inversed = binarizer.inverse_transform(Ypred)\n",
    "y_test_inversed = binarizer.inverse_transform(Ytest)"
   ]
  },
  {
   "cell_type": "code",
   "execution_count": 39,
   "id": "f9b0da2e",
   "metadata": {},
   "outputs": [
    {
     "name": "stdout",
     "output_type": "stream",
     "text": [
      "Text:\t  (0, 404579)\t1\n",
      "  (0, 480085)\t1\n",
      "  (0, 706817)\t1\n",
      "  (0, 707350)\t1\n",
      "  (0, 712032)\t1\n",
      "  (0, 812011)\t1\n",
      "  (0, 704347)\t1\n",
      "  (0, 522190)\t1\n",
      "  (0, 772642)\t1\n",
      "  (0, 734733)\t1\n",
      "  (0, 245418)\t1\n",
      "  (0, 281926)\t1\n",
      "  (0, 155655)\t1\n",
      "  (0, 212755)\t1\n",
      "  (0, 440910)\t1\n",
      "  (0, 273316)\t1\n",
      "  (0, 421247)\t1\n",
      "  (0, 649228)\t1\n",
      "  (0, 649388)\t1\n",
      "  (0, 707436)\t1\n",
      "  (0, 190824)\t1\n",
      "  (0, 142610)\t1\n",
      "  (0, 407929)\t1\n",
      "  (0, 348975)\t1\n",
      "  (0, 480444)\t1\n",
      "  (0, 324254)\t1\n",
      "  (0, 324279)\t1\n",
      "  (0, 441477)\t1\n",
      "  (0, 812166)\t1\n",
      "  (0, 282026)\t1\n",
      "  (0, 523651)\t1\n",
      "  (0, 441254)\t1\n",
      "  (0, 712416)\t1\n",
      "  (0, 273668)\t1\n",
      "  (0, 707058)\t1\n",
      "  (0, 190849)\t1\n",
      "  (0, 348980)\t1\n",
      "  (0, 156500)\t1\n",
      "  (0, 735043)\t1\n",
      "  (0, 772848)\t1\n",
      "  (0, 142710)\t1\n",
      "  (0, 704646)\t1\n",
      "  (0, 212937)\t1\n",
      "  (0, 282236)\t1\n",
      "  (0, 245596)\t1\n",
      "True labels:\tAries\n",
      "Predicted labels:\t\n",
      "\n",
      "\n",
      "Text:\t  (0, 279681)\t1\n",
      "  (0, 477114)\t1\n",
      "  (0, 404579)\t1\n",
      "  (0, 364882)\t1\n",
      "  (0, 346483)\t1\n",
      "  (0, 390218)\t1\n",
      "  (0, 293884)\t1\n",
      "  (0, 244674)\t1\n",
      "  (0, 500405)\t1\n",
      "  (0, 735913)\t1\n",
      "  (0, 706817)\t1\n",
      "  (0, 705675)\t1\n",
      "  (0, 195917)\t1\n",
      "  (0, 689863)\t1\n",
      "  (0, 77856)\t1\n",
      "  (0, 402364)\t1\n",
      "  (0, 240837)\t1\n",
      "  (0, 799698)\t1\n",
      "  (0, 282275)\t1\n",
      "  (0, 590138)\t1\n",
      "  (0, 562182)\t1\n",
      "  (0, 777731)\t1\n",
      "  (0, 146360)\t1\n",
      "  (0, 808944)\t1\n",
      "  (0, 739908)\t1\n",
      "  :\t:\n",
      "  (0, 807924)\t1\n",
      "  (0, 136252)\t1\n",
      "  (0, 619332)\t1\n",
      "  (0, 503628)\t1\n",
      "  (0, 134815)\t1\n",
      "  (0, 282646)\t1\n",
      "  (0, 402498)\t1\n",
      "  (0, 94119)\t1\n",
      "  (0, 195906)\t1\n",
      "  (0, 690151)\t1\n",
      "  (0, 245008)\t1\n",
      "  (0, 380495)\t1\n",
      "  (0, 685612)\t1\n",
      "  (0, 226027)\t1\n",
      "  (0, 491910)\t1\n",
      "  (0, 477324)\t1\n",
      "  (0, 190258)\t1\n",
      "  (0, 78276)\t1\n",
      "  (0, 543658)\t1\n",
      "  (0, 773968)\t1\n",
      "  (0, 280714)\t1\n",
      "  (0, 364393)\t1\n",
      "  (0, 697200)\t1\n",
      "  (0, 209298)\t1\n",
      "  (0, 690297)\t1\n",
      "True labels:\tPisces\n",
      "Predicted labels:\t\n",
      "\n",
      "\n",
      "Text:\t  (0, 19806)\t1\n",
      "  (0, 170526)\t1\n",
      "  (0, 604995)\t1\n",
      "  (0, 581101)\t1\n",
      "  (0, 42717)\t1\n",
      "  (0, 82347)\t1\n",
      "  (0, 259019)\t1\n",
      "  (0, 68331)\t1\n",
      "  (0, 26800)\t1\n",
      "  (0, 129408)\t1\n",
      "  (0, 469574)\t1\n",
      "  (0, 169915)\t1\n",
      "  (0, 147917)\t1\n",
      "  (0, 20312)\t1\n",
      "  (0, 448705)\t1\n",
      "  (0, 84476)\t1\n",
      "  (0, 542770)\t1\n",
      "  (0, 605048)\t1\n",
      "  (0, 68340)\t1\n",
      "  (0, 42780)\t1\n",
      "  (0, 147918)\t1\n",
      "  (0, 82502)\t1\n",
      "  (0, 469587)\t1\n",
      "  (0, 259026)\t1\n",
      "  (0, 581118)\t1\n",
      "  (0, 26808)\t1\n",
      "  (0, 169922)\t1\n",
      "  (0, 448706)\t1\n",
      "  (0, 129411)\t1\n",
      "  (0, 84477)\t1\n",
      "  (0, 170555)\t1\n",
      "True labels:\tLeo\n",
      "Predicted labels:\t\n",
      "\n",
      "\n",
      "Text:\t  (0, 409935)\t1\n",
      "  (0, 86171)\t1\n",
      "  (0, 543816)\t1\n",
      "  (0, 462105)\t1\n",
      "  (0, 605642)\t1\n",
      "  (0, 749012)\t1\n",
      "  (0, 467368)\t1\n",
      "  (0, 343524)\t1\n",
      "  (0, 86792)\t1\n",
      "  (0, 468446)\t1\n",
      "  (0, 339380)\t1\n",
      "  (0, 707980)\t1\n",
      "  (0, 339494)\t1\n",
      "  (0, 606323)\t1\n",
      "  (0, 462398)\t1\n",
      "  (0, 339381)\t1\n",
      "  (0, 343736)\t1\n",
      "  (0, 544072)\t1\n",
      "  (0, 410075)\t1\n",
      "  (0, 707981)\t1\n",
      "  (0, 750352)\t1\n",
      "True labels:\tSagittarius\n",
      "Predicted labels:\t\n",
      "\n",
      "\n",
      "Text:\t  (0, 172655)\t1\n",
      "  (0, 296252)\t1\n",
      "  (0, 323387)\t1\n",
      "  (0, 287672)\t1\n",
      "  (0, 677868)\t1\n",
      "  (0, 314248)\t1\n",
      "  (0, 169259)\t1\n",
      "  (0, 629946)\t1\n",
      "  (0, 806050)\t1\n",
      "  (0, 204886)\t1\n",
      "  (0, 766386)\t1\n",
      "  (0, 190978)\t1\n",
      "  (0, 165475)\t1\n",
      "  (0, 492111)\t1\n",
      "  (0, 265416)\t1\n",
      "  (0, 409690)\t1\n",
      "  (0, 119223)\t1\n",
      "  (0, 505107)\t1\n",
      "  (0, 398509)\t1\n",
      "  (0, 695488)\t1\n",
      "  (0, 217547)\t1\n",
      "  (0, 439148)\t1\n",
      "  (0, 453713)\t1\n",
      "  (0, 720697)\t1\n",
      "  (0, 492140)\t1\n",
      "  :\t:\n",
      "  (0, 289331)\t1\n",
      "  (0, 677966)\t1\n",
      "  (0, 190984)\t1\n",
      "  (0, 119257)\t1\n",
      "  (0, 633250)\t1\n",
      "  (0, 398519)\t1\n",
      "  (0, 492151)\t1\n",
      "  (0, 766387)\t1\n",
      "  (0, 8037)\t1\n",
      "  (0, 695611)\t1\n",
      "  (0, 492116)\t1\n",
      "  (0, 165487)\t1\n",
      "  (0, 314685)\t1\n",
      "  (0, 297848)\t1\n",
      "  (0, 678007)\t1\n",
      "  (0, 265446)\t1\n",
      "  (0, 217559)\t1\n",
      "  (0, 453741)\t1\n",
      "  (0, 542571)\t1\n",
      "  (0, 258553)\t1\n",
      "  (0, 409731)\t1\n",
      "  (0, 204918)\t1\n",
      "  (0, 323873)\t1\n",
      "  (0, 720718)\t1\n",
      "  (0, 174180)\t1\n",
      "True labels:\tLibra\n",
      "Predicted labels:\t\n",
      "\n",
      "\n"
     ]
    }
   ],
   "source": [
    "for i in range(5):\n",
    "    print('Text:\\t{}\\nTrue labels:\\t{}\\nPredicted labels:\\t{}\\n\\n'.format(\n",
    "        Xtest[i],\n",
    "        ','.join(y_test_inversed[i]),\n",
    "        ','.join(Ypred_inversed[i])\n",
    "    ))"
   ]
  },
  {
   "cell_type": "markdown",
   "id": "dc77a50e",
   "metadata": {},
   "source": [
    "E. Clearly print Performance Metrics."
   ]
  },
  {
   "cell_type": "code",
   "execution_count": 40,
   "id": "f048feb2",
   "metadata": {},
   "outputs": [],
   "source": [
    "from sklearn.metrics import accuracy_score\n",
    "from sklearn.metrics import f1_score\n",
    "from sklearn.metrics import average_precision_score\n",
    "from sklearn.metrics import recall_score\n",
    "\n",
    "def print_evaluation_scores(Ytest, Ypred):\n",
    "    print('Accuracy score: ', accuracy_score(Ytest, Ypred))\n",
    "    print('F1 score: ', f1_score(Ytest, Ypred, average='micro'))\n",
    "    print('Average precision score: ', average_precision_score(Ytest, Ypred, average='micro'))\n",
    "    print('Average recall score: ', recall_score(Ytest, Ypred, average='micro'))"
   ]
  },
  {
   "cell_type": "code",
   "execution_count": 41,
   "id": "9d3974d3",
   "metadata": {},
   "outputs": [
    {
     "name": "stdout",
     "output_type": "stream",
     "text": [
      "Accuracy score:  0.0036591740721380033\n",
      "F1 score:  0.007212776919113859\n",
      "Average precision score:  0.08394319567868966\n",
      "Average recall score:  0.0036591740721380033\n"
     ]
    }
   ],
   "source": [
    "print_evaluation_scores(Ytest, Ypred)"
   ]
  },
  {
   "cell_type": "markdown",
   "id": "95d49472",
   "metadata": {},
   "source": [
    "4. Improve Performance of model."
   ]
  },
  {
   "cell_type": "markdown",
   "id": "4e0a604a",
   "metadata": {},
   "source": [
    "A. Experiment with other vectorisers. (using word2vec/GLOV)"
   ]
  },
  {
   "cell_type": "markdown",
   "id": "bf9855d2",
   "metadata": {},
   "source": [
    "Which vectorizer performed better? Probable reason?"
   ]
  },
  {
   "cell_type": "raw",
   "id": "5379fb9e",
   "metadata": {},
   "source": [
    "TF-IDF is better than Count Vectorizers because it not only focuses on the frequency of words present in the corpus but also provides the importance of the words. We can then remove the words that are less important for analysis, hence making the model building less complex by reducing the input dimensions"
   ]
  }
 ],
 "metadata": {
  "kernelspec": {
   "display_name": "Python 3 (ipykernel)",
   "language": "python",
   "name": "python3"
  },
  "language_info": {
   "codemirror_mode": {
    "name": "ipython",
    "version": 3
   },
   "file_extension": ".py",
   "mimetype": "text/x-python",
   "name": "python",
   "nbconvert_exporter": "python",
   "pygments_lexer": "ipython3",
   "version": "3.9.7"
  }
 },
 "nbformat": 4,
 "nbformat_minor": 5
}
