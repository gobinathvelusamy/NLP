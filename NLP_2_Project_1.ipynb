{
 "cells": [
  {
   "cell_type": "markdown",
   "metadata": {
    "id": "o5p2WXhEcbTT"
   },
   "source": [
    "1. Import and analyse the data set."
   ]
  },
  {
   "cell_type": "code",
   "execution_count": 1,
   "metadata": {
    "id": "3ylQ2ShPcc9i"
   },
   "outputs": [],
   "source": [
    "from keras.datasets import imdb\n",
    "import matplotlib.pyplot as plt\n",
    "import numpy as np\n",
    "from tensorflow.keras.models import Sequential\n",
    "from tensorflow.keras.layers import Embedding, LSTM, TimeDistributed, Flatten, Dense"
   ]
  },
  {
   "cell_type": "code",
   "execution_count": 2,
   "metadata": {
    "id": "EX7dR0J5c2GJ"
   },
   "outputs": [],
   "source": [
    "from keras_preprocessing.sequence import pad_sequences\n",
    "vocab_size = 10000 #vocab size\n",
    "maxlen = 20  #number of word used from each review"
   ]
  },
  {
   "cell_type": "markdown",
   "metadata": {
    "id": "caK3Mv93c8on"
   },
   "source": [
    "Train test split\n"
   ]
  },
  {
   "cell_type": "code",
   "execution_count": 3,
   "metadata": {
    "id": "wi0rGqpwdvUT"
   },
   "outputs": [],
   "source": [
    "#load dataset as a list of ints\n",
    "(x_train, y_train), (x_test, y_test) = imdb.load_data(num_words=vocab_size)"
   ]
  },
  {
   "cell_type": "code",
   "execution_count": 4,
   "metadata": {
    "colab": {
     "base_uri": "https://localhost:8080/"
    },
    "id": "a-RF4S2e6hZc",
    "outputId": "1b3d1e30-4ee7-4999-d6c6-e7c1c12ff874"
   },
   "outputs": [
    {
     "name": "stdout",
     "output_type": "stream",
     "text": [
      "Loaded dataset with 25000 training samples, 25000 test samples\n"
     ]
    }
   ],
   "source": [
    "print('Loaded dataset with {} training samples, {} test samples'.format(len(x_train), len(x_test)))\n"
   ]
  },
  {
   "cell_type": "code",
   "execution_count": 5,
   "metadata": {
    "colab": {
     "base_uri": "https://localhost:8080/"
    },
    "id": "i4f3_4QE6qxQ",
    "outputId": "4e6d3209-38e1-4184-af55-7f45b88b01f4"
   },
   "outputs": [
    {
     "name": "stdout",
     "output_type": "stream",
     "text": [
      "---review---\n",
      "[1, 6740, 365, 1234, 5, 1156, 354, 11, 14, 5327, 6638, 7, 1016, 2, 5940, 356, 44, 4, 1349, 500, 746, 5, 200, 4, 4132, 11, 2, 9363, 1117, 1831, 7485, 5, 4831, 26, 6, 2, 4183, 17, 369, 37, 215, 1345, 143, 2, 5, 1838, 8, 1974, 15, 36, 119, 257, 85, 52, 486, 9, 6, 2, 8564, 63, 271, 6, 196, 96, 949, 4121, 4, 2, 7, 4, 2212, 2436, 819, 63, 47, 77, 7175, 180, 6, 227, 11, 94, 2494, 2, 13, 423, 4, 168, 7, 4, 22, 5, 89, 665, 71, 270, 56, 5, 13, 197, 12, 161, 5390, 99, 76, 23, 2, 7, 419, 665, 40, 91, 85, 108, 7, 4, 2084, 5, 4773, 81, 55, 52, 1901]\n",
      "---label---\n",
      "1\n"
     ]
    }
   ],
   "source": [
    "print('---review---')\n",
    "print(x_train[6])\n",
    "print('---label---')\n",
    "print(y_train[6])\n",
    "    "
   ]
  },
  {
   "cell_type": "code",
   "execution_count": 6,
   "metadata": {
    "id": "D5f8Ho9iXbPj"
   },
   "outputs": [],
   "source": [
    "data = np.concatenate((x_train, x_test), axis=0)\n",
    "labels = np.concatenate((y_train, y_train), axis=0)"
   ]
  },
  {
   "cell_type": "markdown",
   "metadata": {
    "id": "V3osIDYBUomp"
   },
   "source": [
    "2. Perform relevant sequence adding on the data"
   ]
  },
  {
   "cell_type": "markdown",
   "metadata": {
    "id": "IoY5hZ3MUkQe"
   },
   "source": [
    "In order to feed this data into our RNN, all input documents must have the same length. We will limit the maximum review length to max_words by truncating longer reviews and padding shorter reviews with a null value (0). We can accomplish this using the pad_sequences() function in Keras. For now, set max_words to 20.\n",
    "\n"
   ]
  },
  {
   "cell_type": "code",
   "execution_count": 7,
   "metadata": {
    "colab": {
     "base_uri": "https://localhost:8080/",
     "height": 520
    },
    "id": "JIlFOd_hdAGW",
    "outputId": "824dba43-60ea-41b4-b21d-e64c4af836da"
   },
   "outputs": [
    {
     "data": {
      "image/png": "[encoded data removed]",
      "text/plain": [
       "<Figure size 1800x576 with 1 Axes>"
      ]
     },
     "metadata": {
      "needs_background": "light"
     },
     "output_type": "display_data"
    },
    {
     "name": "stdout",
     "output_type": "stream",
     "text": [
      "Average review length: 234.75892\n",
      "Standard deviation: 173\n",
      "No of reviews with length below 20: 28\n"
     ]
    }
   ],
   "source": [
    "length = [len(i) for i in data]\n",
    "plt.figure(figsize=(25,8))\n",
    "plt.hist(length, bins= 200)\n",
    "plt.plot([300, 300], [0, 4000], 'r', linewidth=2.0)\n",
    "plt.show()\n",
    "print(\"Average review length: {}\".format(np.mean(length)))\n",
    "print(\"Standard deviation: {}\".format(round(np.std(length))))\n",
    "print(\"No of reviews with length below 20: {}\".format(sum(i < 21 for i in length)))"
   ]
  },
  {
   "cell_type": "code",
   "execution_count": 8,
   "metadata": {
    "id": "_PPph_-yYc5o"
   },
   "outputs": [],
   "source": [
    "data_padded = pad_sequences(data, padding='post', maxlen=maxlen)\n"
   ]
  },
  {
   "cell_type": "markdown",
   "metadata": {
    "id": "6s5oK57fYQrN"
   },
   "source": [
    "3. Perform following data analysis:"
   ]
  },
  {
   "cell_type": "markdown",
   "metadata": {
    "id": "5Pz3NRy3YUDq"
   },
   "source": [
    "Print shape of features and labels"
   ]
  },
  {
   "cell_type": "code",
   "execution_count": 9,
   "metadata": {
    "colab": {
     "base_uri": "https://localhost:8080/"
    },
    "id": "44lBGTH7YYpb",
    "outputId": "f7af1478-9cef-44d7-c6c1-6297baf4f7f9"
   },
   "outputs": [
    {
     "name": "stdout",
     "output_type": "stream",
     "text": [
      "Number of reviews: 50000, Number of words in each review: 20\n"
     ]
    }
   ],
   "source": [
    "print('Number of reviews: {}, Number of words in each review: {}'.format(data_padded.shape[0],data_padded.shape[1]))\n"
   ]
  },
  {
   "cell_type": "code",
   "execution_count": 10,
   "metadata": {
    "colab": {
     "base_uri": "https://localhost:8080/"
    },
    "id": "rpnyByaoYjgb",
    "outputId": "4aa74826-09bf-470c-e114-c92971399d10"
   },
   "outputs": [
    {
     "name": "stdout",
     "output_type": "stream",
     "text": [
      "Number of labels: 50000\n"
     ]
    }
   ],
   "source": [
    "print('Number of labels: {}'.format(labels.shape[0]))\n"
   ]
  },
  {
   "cell_type": "markdown",
   "metadata": {
    "id": "mRo_hfaIYp-a"
   },
   "source": [
    "Print value of any one feature and it's label"
   ]
  },
  {
   "cell_type": "code",
   "execution_count": 11,
   "metadata": {
    "colab": {
     "base_uri": "https://localhost:8080/"
    },
    "id": "VfAYms1YYvoY",
    "outputId": "ea7f28b5-daa4-4af4-8b92-362c47f31827"
   },
   "outputs": [
    {
     "data": {
      "text/plain": [
       "array([  65,   16,   38, 1334,   88,   12,   16,  283,    5,   16, 4472,\n",
       "        113,  103,   32,   15,   16, 5345,   19,  178,   32], dtype=int32)"
      ]
     },
     "execution_count": 11,
     "metadata": {},
     "output_type": "execute_result"
    }
   ],
   "source": [
    "data_padded[0]"
   ]
  },
  {
   "cell_type": "code",
   "execution_count": 12,
   "metadata": {
    "colab": {
     "base_uri": "https://localhost:8080/"
    },
    "id": "VkuVgQqvYyxq",
    "outputId": "85830e00-7a34-43d6-a10f-ba5b135745d1"
   },
   "outputs": [
    {
     "data": {
      "text/plain": [
       "1"
      ]
     },
     "execution_count": 12,
     "metadata": {},
     "output_type": "execute_result"
    }
   ],
   "source": [
    "labels[0]"
   ]
  },
  {
   "cell_type": "markdown",
   "metadata": {
    "id": "qe5QYagPY1o5"
   },
   "source": [
    "4. Decode the feature value to get original sentence "
   ]
  },
  {
   "cell_type": "markdown",
   "metadata": {
    "id": "xMZiQ0SvY5np"
   },
   "source": [
    "First, retrieve a dictionary that contains mapping of words to their index in the IMDB dataset\n",
    "\n"
   ]
  },
  {
   "cell_type": "code",
   "execution_count": 13,
   "metadata": {
    "id": "8ZGALMViY8h-"
   },
   "outputs": [],
   "source": [
    "word_index = imdb.get_word_index()\n",
    "reverse_word_index = dict([(value, key) for (key, value) in word_index.items()])"
   ]
  },
  {
   "cell_type": "code",
   "execution_count": 14,
   "metadata": {
    "colab": {
     "base_uri": "https://localhost:8080/"
    },
    "id": "JKqwXHmnZABs",
    "outputId": "52f5f5a1-fdd2-4413-a818-71007682d698"
   },
   "outputs": [
    {
     "name": "stdout",
     "output_type": "stream",
     "text": [
      "on the disaster that was the 80's and have a good old laugh at how bad everything was back then\n"
     ]
    }
   ],
   "source": [
    "print(\" \".join([reverse_word_index.get(n-3, '#') for n in data_padded[1]]))\n"
   ]
  },
  {
   "cell_type": "markdown",
   "metadata": {
    "id": "gE0KLenjZE9l"
   },
   "source": [
    "Get the sentiment for the above sentence\n",
    "\n",
    "positive (1)\n",
    "negative (0)"
   ]
  },
  {
   "cell_type": "code",
   "execution_count": 15,
   "metadata": {
    "colab": {
     "base_uri": "https://localhost:8080/"
    },
    "id": "6wxN4C7_ZF_u",
    "outputId": "ce5a0e8a-4c0d-408f-b14c-ede27a72833c"
   },
   "outputs": [
    {
     "data": {
      "text/plain": [
       "0"
      ]
     },
     "execution_count": 15,
     "metadata": {},
     "output_type": "execute_result"
    }
   ],
   "source": [
    "labels[1]"
   ]
  },
  {
   "cell_type": "markdown",
   "metadata": {
    "id": "jhAdlJW_ZMkE"
   },
   "source": [
    "5. Design, train, tune and test a sequential model. "
   ]
  },
  {
   "cell_type": "code",
   "execution_count": 16,
   "metadata": {
    "id": "EylbAm2kZQpN"
   },
   "outputs": [],
   "source": [
    "from sklearn.model_selection import train_test_split\n",
    "train_X, test_X, train_y, test_y = train_test_split(data_padded, labels, test_size=0.20, random_state=0)"
   ]
  },
  {
   "cell_type": "markdown",
   "metadata": {
    "id": "vE4NMk-xZTn3"
   },
   "source": [
    "Define model\n"
   ]
  },
  {
   "cell_type": "code",
   "execution_count": 17,
   "metadata": {
    "id": "eQKE2Q-LZWKg"
   },
   "outputs": [],
   "source": [
    "model = Sequential()\n",
    "model.add(Embedding(input_dim=10000, output_dim=100, input_length=20))\n",
    "model.add(LSTM(units=100, return_sequences=True, dropout=0.2))\n",
    "model.add(TimeDistributed(Dense(100)))\n",
    "model.add(Flatten())\n",
    "model.add(Dense(1, activation='sigmoid'))"
   ]
  },
  {
   "cell_type": "markdown",
   "metadata": {
    "id": "ORxl8FvJZiNb"
   },
   "source": [
    "Compile the model\n"
   ]
  },
  {
   "cell_type": "code",
   "execution_count": 18,
   "metadata": {
    "id": "p4t2wFPAZi1l"
   },
   "outputs": [],
   "source": [
    "model.compile(optimizer=\"adam\", loss=\"binary_crossentropy\", metrics=[\"accuracy\"])\n"
   ]
  },
  {
   "cell_type": "markdown",
   "metadata": {
    "id": "H53Uo7WxZnVN"
   },
   "source": [
    "Print model summary\n"
   ]
  },
  {
   "cell_type": "code",
   "execution_count": 19,
   "metadata": {
    "colab": {
     "base_uri": "https://localhost:8080/"
    },
    "id": "bJyts5JcZoyx",
    "outputId": "d2fcdd81-06a2-4152-9f23-506be1da8775"
   },
   "outputs": [
    {
     "name": "stdout",
     "output_type": "stream",
     "text": [
      "Model: \"sequential\"\n",
      "_________________________________________________________________\n",
      " Layer (type)                Output Shape              Param #   \n",
      "=================================================================\n",
      " embedding (Embedding)       (None, 20, 100)           1000000   \n",
      "                                                                 \n",
      " lstm (LSTM)                 (None, 20, 100)           80400     \n",
      "                                                                 \n",
      " time_distributed (TimeDistr  (None, 20, 100)          10100     \n",
      " ibuted)                                                         \n",
      "                                                                 \n",
      " flatten (Flatten)           (None, 2000)              0         \n",
      "                                                                 \n",
      " dense_1 (Dense)             (None, 1)                 2001      \n",
      "                                                                 \n",
      "=================================================================\n",
      "Total params: 1,092,501\n",
      "Trainable params: 1,092,501\n",
      "Non-trainable params: 0\n",
      "_________________________________________________________________\n"
     ]
    }
   ],
   "source": [
    "model.summary()\n"
   ]
  },
  {
   "cell_type": "markdown",
   "metadata": {
    "id": "HNmVrgaKZxpG"
   },
   "source": [
    "Fit the model"
   ]
  },
  {
   "cell_type": "code",
   "execution_count": 20,
   "metadata": {
    "colab": {
     "base_uri": "https://localhost:8080/"
    },
    "id": "DmIi6BZ3ZxFa",
    "outputId": "ae95cd8d-a49e-4fe7-adde-a2ad0bb38561"
   },
   "outputs": [
    {
     "name": "stdout",
     "output_type": "stream",
     "text": [
      "Epoch 1/50\n",
      "360/360 [==============================] - 5s 6ms/step - loss: 0.6695 - accuracy: 0.5840 - val_loss: 0.6640 - val_accuracy: 0.6010\n",
      "Epoch 2/50\n",
      "360/360 [==============================] - 2s 5ms/step - loss: 0.6148 - accuracy: 0.6679 - val_loss: 0.6828 - val_accuracy: 0.5968\n",
      "Epoch 3/50\n",
      "360/360 [==============================] - 2s 5ms/step - loss: 0.5284 - accuracy: 0.7372 - val_loss: 0.7480 - val_accuracy: 0.5750\n",
      "Epoch 4/50\n",
      "360/360 [==============================] - 2s 5ms/step - loss: 0.4241 - accuracy: 0.8023 - val_loss: 0.8839 - val_accuracy: 0.5660\n",
      "Epoch 5/50\n",
      "360/360 [==============================] - 2s 5ms/step - loss: 0.3318 - accuracy: 0.8559 - val_loss: 1.0326 - val_accuracy: 0.5757\n",
      "Epoch 6/50\n",
      "360/360 [==============================] - 2s 5ms/step - loss: 0.2568 - accuracy: 0.8936 - val_loss: 1.2110 - val_accuracy: 0.5580\n",
      "Epoch 7/50\n",
      "360/360 [==============================] - 2s 5ms/step - loss: 0.2002 - accuracy: 0.9174 - val_loss: 1.5142 - val_accuracy: 0.5577\n",
      "Epoch 8/50\n",
      "360/360 [==============================] - 2s 5ms/step - loss: 0.1592 - accuracy: 0.9366 - val_loss: 1.8686 - val_accuracy: 0.5533\n",
      "Epoch 9/50\n",
      "360/360 [==============================] - 2s 5ms/step - loss: 0.1309 - accuracy: 0.9481 - val_loss: 2.0196 - val_accuracy: 0.5518\n",
      "Epoch 10/50\n",
      "360/360 [==============================] - 2s 5ms/step - loss: 0.1084 - accuracy: 0.9586 - val_loss: 2.2482 - val_accuracy: 0.5565\n",
      "Epoch 11/50\n",
      "360/360 [==============================] - 2s 5ms/step - loss: 0.0931 - accuracy: 0.9649 - val_loss: 2.7799 - val_accuracy: 0.5487\n",
      "Epoch 12/50\n",
      "360/360 [==============================] - 2s 5ms/step - loss: 0.0823 - accuracy: 0.9688 - val_loss: 2.9456 - val_accuracy: 0.5500\n",
      "Epoch 13/50\n",
      "360/360 [==============================] - 2s 5ms/step - loss: 0.0750 - accuracy: 0.9725 - val_loss: 3.0234 - val_accuracy: 0.5483\n",
      "Epoch 14/50\n",
      "360/360 [==============================] - 2s 5ms/step - loss: 0.0657 - accuracy: 0.9774 - val_loss: 3.1921 - val_accuracy: 0.5523\n",
      "Epoch 15/50\n",
      "360/360 [==============================] - 2s 5ms/step - loss: 0.0604 - accuracy: 0.9796 - val_loss: 3.3408 - val_accuracy: 0.5493\n",
      "Epoch 16/50\n",
      "360/360 [==============================] - 2s 5ms/step - loss: 0.0582 - accuracy: 0.9799 - val_loss: 3.3370 - val_accuracy: 0.5495\n",
      "Epoch 17/50\n",
      "360/360 [==============================] - 2s 5ms/step - loss: 0.0489 - accuracy: 0.9838 - val_loss: 3.7961 - val_accuracy: 0.5497\n",
      "Epoch 18/50\n",
      "360/360 [==============================] - 2s 5ms/step - loss: 0.0499 - accuracy: 0.9826 - val_loss: 3.6698 - val_accuracy: 0.5433\n",
      "Epoch 19/50\n",
      "360/360 [==============================] - 2s 5ms/step - loss: 0.0466 - accuracy: 0.9857 - val_loss: 3.7847 - val_accuracy: 0.5477\n",
      "Epoch 20/50\n",
      "360/360 [==============================] - 2s 5ms/step - loss: 0.0426 - accuracy: 0.9851 - val_loss: 3.9115 - val_accuracy: 0.5435\n",
      "Epoch 21/50\n",
      "360/360 [==============================] - 2s 5ms/step - loss: 0.0426 - accuracy: 0.9863 - val_loss: 3.7550 - val_accuracy: 0.5497\n",
      "Epoch 22/50\n",
      "360/360 [==============================] - 2s 5ms/step - loss: 0.0391 - accuracy: 0.9870 - val_loss: 3.8955 - val_accuracy: 0.5450\n",
      "Epoch 23/50\n",
      "360/360 [==============================] - 2s 5ms/step - loss: 0.0376 - accuracy: 0.9874 - val_loss: 4.0328 - val_accuracy: 0.5505\n",
      "Epoch 24/50\n",
      "360/360 [==============================] - 2s 5ms/step - loss: 0.0382 - accuracy: 0.9871 - val_loss: 4.1728 - val_accuracy: 0.5458\n",
      "Epoch 25/50\n",
      "360/360 [==============================] - 2s 5ms/step - loss: 0.0354 - accuracy: 0.9881 - val_loss: 4.1126 - val_accuracy: 0.5483\n",
      "Epoch 26/50\n",
      "360/360 [==============================] - 2s 5ms/step - loss: 0.0356 - accuracy: 0.9883 - val_loss: 4.2213 - val_accuracy: 0.5487\n",
      "Epoch 27/50\n",
      "360/360 [==============================] - 2s 5ms/step - loss: 0.0335 - accuracy: 0.9888 - val_loss: 4.3528 - val_accuracy: 0.5515\n",
      "Epoch 28/50\n",
      "360/360 [==============================] - 2s 5ms/step - loss: 0.0313 - accuracy: 0.9896 - val_loss: 4.4326 - val_accuracy: 0.5477\n",
      "Epoch 29/50\n",
      "360/360 [==============================] - 2s 5ms/step - loss: 0.0339 - accuracy: 0.9890 - val_loss: 4.2984 - val_accuracy: 0.5468\n",
      "Epoch 30/50\n",
      "360/360 [==============================] - 2s 5ms/step - loss: 0.0292 - accuracy: 0.9909 - val_loss: 4.4131 - val_accuracy: 0.5397\n",
      "Epoch 31/50\n",
      "360/360 [==============================] - 2s 5ms/step - loss: 0.0295 - accuracy: 0.9903 - val_loss: 4.6507 - val_accuracy: 0.5468\n",
      "Epoch 32/50\n",
      "360/360 [==============================] - 2s 5ms/step - loss: 0.0264 - accuracy: 0.9916 - val_loss: 4.5527 - val_accuracy: 0.5518\n",
      "Epoch 33/50\n",
      "360/360 [==============================] - 2s 5ms/step - loss: 0.0273 - accuracy: 0.9906 - val_loss: 4.5094 - val_accuracy: 0.5490\n",
      "Epoch 34/50\n",
      "360/360 [==============================] - 2s 5ms/step - loss: 0.0282 - accuracy: 0.9907 - val_loss: 4.5385 - val_accuracy: 0.5495\n",
      "Epoch 35/50\n",
      "360/360 [==============================] - 2s 5ms/step - loss: 0.0277 - accuracy: 0.9912 - val_loss: 4.6331 - val_accuracy: 0.5510\n",
      "Epoch 36/50\n",
      "360/360 [==============================] - 2s 5ms/step - loss: 0.0243 - accuracy: 0.9919 - val_loss: 4.7979 - val_accuracy: 0.5433\n",
      "Epoch 37/50\n",
      "360/360 [==============================] - 2s 5ms/step - loss: 0.0248 - accuracy: 0.9915 - val_loss: 4.6866 - val_accuracy: 0.5445\n",
      "Epoch 38/50\n",
      "360/360 [==============================] - 2s 5ms/step - loss: 0.0250 - accuracy: 0.9917 - val_loss: 5.0465 - val_accuracy: 0.5433\n",
      "Epoch 39/50\n",
      "360/360 [==============================] - 2s 5ms/step - loss: 0.0229 - accuracy: 0.9927 - val_loss: 4.9070 - val_accuracy: 0.5450\n",
      "Epoch 40/50\n",
      "360/360 [==============================] - 2s 5ms/step - loss: 0.0232 - accuracy: 0.9919 - val_loss: 4.9916 - val_accuracy: 0.5433\n",
      "Epoch 41/50\n",
      "360/360 [==============================] - 2s 5ms/step - loss: 0.0211 - accuracy: 0.9926 - val_loss: 4.8676 - val_accuracy: 0.5412\n",
      "Epoch 42/50\n",
      "360/360 [==============================] - 2s 5ms/step - loss: 0.0218 - accuracy: 0.9929 - val_loss: 5.2061 - val_accuracy: 0.5410\n",
      "Epoch 43/50\n",
      "360/360 [==============================] - 2s 5ms/step - loss: 0.0216 - accuracy: 0.9926 - val_loss: 5.3601 - val_accuracy: 0.5450\n",
      "Epoch 44/50\n",
      "360/360 [==============================] - 2s 5ms/step - loss: 0.0220 - accuracy: 0.9924 - val_loss: 5.0925 - val_accuracy: 0.5495\n",
      "Epoch 45/50\n",
      "360/360 [==============================] - 2s 5ms/step - loss: 0.0196 - accuracy: 0.9926 - val_loss: 5.3195 - val_accuracy: 0.5412\n",
      "Epoch 46/50\n",
      "360/360 [==============================] - 2s 5ms/step - loss: 0.0206 - accuracy: 0.9926 - val_loss: 5.3677 - val_accuracy: 0.5397\n",
      "Epoch 47/50\n",
      "360/360 [==============================] - 2s 5ms/step - loss: 0.0201 - accuracy: 0.9931 - val_loss: 5.5057 - val_accuracy: 0.5433\n",
      "Epoch 48/50\n",
      "360/360 [==============================] - 2s 5ms/step - loss: 0.0195 - accuracy: 0.9927 - val_loss: 5.4128 - val_accuracy: 0.5418\n",
      "Epoch 49/50\n",
      "360/360 [==============================] - 2s 5ms/step - loss: 0.0195 - accuracy: 0.9928 - val_loss: 5.4287 - val_accuracy: 0.5420\n",
      "Epoch 50/50\n",
      "360/360 [==============================] - 2s 5ms/step - loss: 0.0199 - accuracy: 0.9926 - val_loss: 5.2397 - val_accuracy: 0.5383\n"
     ]
    }
   ],
   "source": [
    "history = model.fit(train_X, np.array(train_y), batch_size=100, epochs=50, validation_split=0.1, verbose=1)\n"
   ]
  },
  {
   "cell_type": "markdown",
   "metadata": {
    "id": "BMjjE1vJZ7p2"
   },
   "source": [
    "Evaluate model\n"
   ]
  },
  {
   "cell_type": "code",
   "execution_count": 21,
   "metadata": {
    "colab": {
     "base_uri": "https://localhost:8080/"
    },
    "id": "jIMcOdWKZ9zO",
    "outputId": "92e7d1fa-bfde-422b-ec8a-980526bc59dd"
   },
   "outputs": [
    {
     "name": "stdout",
     "output_type": "stream",
     "text": [
      "313/313 [==============================] - 1s 3ms/step - loss: 5.3287 - accuracy: 0.5427\n"
     ]
    }
   ],
   "source": [
    "results = model.evaluate(test_X, test_y)\n"
   ]
  },
  {
   "cell_type": "code",
   "execution_count": 22,
   "metadata": {
    "colab": {
     "base_uri": "https://localhost:8080/"
    },
    "id": "MSLzo3FkaA7n",
    "outputId": "cd75a45d-067f-4e88-8b31-71301a459232"
   },
   "outputs": [
    {
     "name": "stdout",
     "output_type": "stream",
     "text": [
      "313/313 [==============================] - 1s 2ms/step\n"
     ]
    },
    {
     "data": {
      "text/plain": [
       "array([[2737, 2260],\n",
       "       [2313, 2690]])"
      ]
     },
     "execution_count": 22,
     "metadata": {},
     "output_type": "execute_result"
    }
   ],
   "source": [
    "from sklearn.metrics import confusion_matrix\n",
    "predict_y = (model.predict(test_X) > 0.5).astype(\"int32\").flatten()\n",
    "confusion_matrix(test_y, predict_y)"
   ]
  },
  {
   "cell_type": "code",
   "execution_count": 23,
   "metadata": {
    "colab": {
     "base_uri": "https://localhost:8080/"
    },
    "id": "5BxRrAWBegE6",
    "outputId": "dd561f80-e68c-488c-d3ec-86e29565ed9e"
   },
   "outputs": [
    {
     "name": "stdout",
     "output_type": "stream",
     "text": [
      "              precision    recall  f1-score   support\n",
      "\n",
      "           0       0.54      0.55      0.54      4997\n",
      "           1       0.54      0.54      0.54      5003\n",
      "\n",
      "    accuracy                           0.54     10000\n",
      "   macro avg       0.54      0.54      0.54     10000\n",
      "weighted avg       0.54      0.54      0.54     10000\n",
      "\n"
     ]
    }
   ],
   "source": [
    "from sklearn.metrics import classification_report\n",
    "\n",
    "print(classification_report(test_y, predict_y))"
   ]
  },
  {
   "cell_type": "markdown",
   "metadata": {
    "id": "3DzYe5slcSWA"
   },
   "source": [
    "6. Use the designed model to print the prediction on any one sample"
   ]
  },
  {
   "cell_type": "code",
   "execution_count": 24,
   "metadata": {
    "colab": {
     "base_uri": "https://localhost:8080/"
    },
    "id": "NC0p-r4zcTbq",
    "outputId": "f4b13962-375d-4a17-a518-905d49a7ebdb"
   },
   "outputs": [
    {
     "name": "stdout",
     "output_type": "stream",
     "text": [
      "1/1 [==============================] - 0s 16ms/step\n",
      "Prediction: [1] | Ground Truth: 1\n"
     ]
    }
   ],
   "source": [
    "print('Prediction: {} | Ground Truth: {}'.format(((model.predict(test_X[0].reshape(-1,20)) > 0.5).astype(\"int32\").flatten()), test_y[0]))\n"
   ]
  }
 ],
 "metadata": {
  "accelerator": "GPU",
  "colab": {
   "machine_shape": "hm",
   "provenance": []
  },
  "gpuClass": "standard",
  "kernelspec": {
   "display_name": "Python 3 (ipykernel)",
   "language": "python",
   "name": "python3"
  },
  "language_info": {
   "codemirror_mode": {
    "name": "ipython",
    "version": 3
   },
   "file_extension": ".py",
   "mimetype": "text/x-python",
   "name": "python",
   "nbconvert_exporter": "python",
   "pygments_lexer": "ipython3",
   "version": "3.9.7"
  }
 },
 "nbformat": 4,
 "nbformat_minor": 1
}
